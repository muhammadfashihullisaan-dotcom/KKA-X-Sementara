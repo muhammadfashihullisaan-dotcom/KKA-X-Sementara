{
  "nbformat": 4,
  "nbformat_minor": 0,
  "metadata": {
    "colab": {
      "provenance": [],
      "authorship_tag": "ABX9TyNAKN91iYStn1Yfj9BIUheZ",
      "include_colab_link": true
    },
    "kernelspec": {
      "name": "python3",
      "display_name": "Python 3"
    },
    "language_info": {
      "name": "python"
    }
  },
  "cells": [
    {
      "cell_type": "markdown",
      "metadata": {
        "id": "view-in-github",
        "colab_type": "text"
      },
      "source": [
        "<a href=\"https://colab.research.google.com/github/muhammadfashihullisaan-dotcom/KKA-X-Sementara/blob/main/1_Fungsi_print_Fashihul_L_X_8.ipynb\" target=\"_parent\"><img src=\"https://colab.research.google.com/assets/colab-badge.svg\" alt=\"Open In Colab\"/></a>"
      ]
    },
    {
      "cell_type": "markdown",
      "source": [
        "Nama: Muhammad Fashihul Lisaan\n",
        "\n",
        "kelas: X.8\n",
        "\n",
        "No absen: 24"
      ],
      "metadata": {
        "id": "frwgW_2zcdpr"
      }
    },
    {
      "cell_type": "markdown",
      "source": [
        "#Menampilkan Teks Bebas"
      ],
      "metadata": {
        "id": "-2t2Iz--flqJ"
      }
    },
    {
      "cell_type": "code",
      "execution_count": null,
      "metadata": {
        "colab": {
          "base_uri": "https://localhost:8080/"
        },
        "id": "i45ixlXrbAcm",
        "outputId": "45feeb77-68ed-4a6d-f68a-6b735e5f2dd3"
      },
      "outputs": [
        {
          "output_type": "stream",
          "name": "stdout",
          "text": [
            "Helo world\n"
          ]
        }
      ],
      "source": [
        "print(\"Helo world\")"
      ]
    },
    {
      "cell_type": "code",
      "source": [
        "print(\"Muhammad Fashihul Lisaan\")"
      ],
      "metadata": {
        "colab": {
          "base_uri": "https://localhost:8080/"
        },
        "id": "o2lX-_gKhXwy",
        "outputId": "ff084ff3-1631-4331-acaf-838466040337"
      },
      "execution_count": null,
      "outputs": [
        {
          "output_type": "stream",
          "name": "stdout",
          "text": [
            "Muhammad Fashihul Lisaan\n"
          ]
        }
      ]
    },
    {
      "cell_type": "markdown",
      "source": [
        "#Menampilkan Nilai Variable"
      ],
      "metadata": {
        "id": "8JQRtNJ0iFZW"
      }
    },
    {
      "cell_type": "code",
      "source": [
        "usia = 15\n",
        "\n",
        "print(usia)"
      ],
      "metadata": {
        "colab": {
          "base_uri": "https://localhost:8080/"
        },
        "id": "O71WuiG-iUbx",
        "outputId": "73d6b662-13e8-4d09-db67-a47b3aca24e5"
      },
      "execution_count": null,
      "outputs": [
        {
          "output_type": "stream",
          "name": "stdout",
          "text": [
            "15\n"
          ]
        }
      ]
    },
    {
      "cell_type": "code",
      "source": [
        "Nama = \"Muhammad Fashihul Lisaan\"\n",
        "\n",
        "print(Nama)"
      ],
      "metadata": {
        "colab": {
          "base_uri": "https://localhost:8080/"
        },
        "id": "FTj6W5VWjMUf",
        "outputId": "23946ddd-b1f6-4643-f61c-0512fa3628e5"
      },
      "execution_count": null,
      "outputs": [
        {
          "output_type": "stream",
          "name": "stdout",
          "text": [
            "Muhammad Fashihul Lisaan\n"
          ]
        }
      ]
    },
    {
      "cell_type": "code",
      "source": [
        "Beratbadan = 58\n",
        "\n",
        "print(Beratbadan)"
      ],
      "metadata": {
        "colab": {
          "base_uri": "https://localhost:8080/"
        },
        "id": "mo3RRTN8kBiU",
        "outputId": "2d12c122-2c6f-41f1-dc03-f542a7f87a80"
      },
      "execution_count": null,
      "outputs": [
        {
          "output_type": "stream",
          "name": "stdout",
          "text": [
            "58\n"
          ]
        }
      ]
    },
    {
      "cell_type": "markdown",
      "source": [
        "#Menampilkan Teks Bebas dan Nilai Variable"
      ],
      "metadata": {
        "id": "KxTdGZ-1lHyY"
      }
    },
    {
      "cell_type": "code",
      "source": [
        "print(f\"perkenalkan nama saya {Nama}.\")"
      ],
      "metadata": {
        "colab": {
          "base_uri": "https://localhost:8080/"
        },
        "id": "4n4sn4AHlhh7",
        "outputId": "9e8ed348-0d23-4626-be57-bbca3ec671e9"
      },
      "execution_count": null,
      "outputs": [
        {
          "output_type": "stream",
          "name": "stdout",
          "text": [
            "perkenalkan nama saya Muhammad Fashihul Lisaan.\n"
          ]
        }
      ]
    },
    {
      "cell_type": "code",
      "source": [
        "print(f\"Berat badan saya {Beratbadan}kg.\")"
      ],
      "metadata": {
        "colab": {
          "base_uri": "https://localhost:8080/"
        },
        "id": "JA1tURoMmgIn",
        "outputId": "6a42ee08-218d-4022-ff27-1f97ecb004c5"
      },
      "execution_count": null,
      "outputs": [
        {
          "output_type": "stream",
          "name": "stdout",
          "text": [
            "Berat badan saya 58kg.\n"
          ]
        }
      ]
    },
    {
      "cell_type": "code",
      "source": [
        "print(\"perkenalkan nama saya \" + Nama)"
      ],
      "metadata": {
        "colab": {
          "base_uri": "https://localhost:8080/"
        },
        "id": "BIE0II2lm4yP",
        "outputId": "fc8685d7-af3d-4208-d126-e8498efc0588"
      },
      "execution_count": null,
      "outputs": [
        {
          "output_type": "stream",
          "name": "stdout",
          "text": [
            "perkenalkan nama saya Muhammad Fashihul Lisaan\n"
          ]
        }
      ]
    },
    {
      "cell_type": "code",
      "source": [
        "print(\"Berat badan saya \" + str(Beratbadan) + \"kg\")"
      ],
      "metadata": {
        "colab": {
          "base_uri": "https://localhost:8080/"
        },
        "id": "JGb9sMsMnX2P",
        "outputId": "ae1f2d3b-1a2d-40af-e626-6a192a39d815"
      },
      "execution_count": null,
      "outputs": [
        {
          "output_type": "stream",
          "name": "stdout",
          "text": [
            "Berat badan saya 58kg\n"
          ]
        }
      ]
    },
    {
      "cell_type": "code",
      "source": [
        "print(\"Berat badan saya \" , Beratbadan , \"kg\")"
      ],
      "metadata": {
        "colab": {
          "base_uri": "https://localhost:8080/"
        },
        "id": "Del5eDEjolaL",
        "outputId": "c8a127df-d143-4083-de2c-50c37bbe2500"
      },
      "execution_count": null,
      "outputs": [
        {
          "output_type": "stream",
          "name": "stdout",
          "text": [
            "Berat badan saya  58 kg\n"
          ]
        }
      ]
    },
    {
      "cell_type": "markdown",
      "source": [
        "#Escape Character"
      ],
      "metadata": {
        "id": "x1uMAhgGfTvD"
      }
    },
    {
      "cell_type": "code",
      "source": [
        "print(\"Nama:Muhammad Fashihul Lisaan\\nKelas:X.8\\nNo Absen:24\")"
      ],
      "metadata": {
        "colab": {
          "base_uri": "https://localhost:8080/"
        },
        "id": "pdJ_OlzYf5jf",
        "outputId": "1d536365-e34a-453d-b42c-1238faf132cf"
      },
      "execution_count": null,
      "outputs": [
        {
          "output_type": "stream",
          "name": "stdout",
          "text": [
            "Nama:Muhammad Fashihul Lisaan\n",
            "Kelas:X.8\n",
            "No Absen:24\n"
          ]
        }
      ]
    },
    {
      "cell_type": "code",
      "source": [
        "print(\"\"\"Nama\\t\\t:Muhammad Fashihul Lisaan\n",
        "Kelas\\t\\t:X.8\n",
        "No Absen\\t:24\"\"\")"
      ],
      "metadata": {
        "colab": {
          "base_uri": "https://localhost:8080/"
        },
        "id": "jRzWDg26lW1M",
        "outputId": "533aee90-026f-4e78-8983-874f547cbadf"
      },
      "execution_count": null,
      "outputs": [
        {
          "output_type": "stream",
          "name": "stdout",
          "text": [
            "Nama\t\t:Muhammad Fashihul Lisaan\n",
            "Kelas\t\t:X.8\n",
            "No Absen\t:24\n"
          ]
        }
      ]
    },
    {
      "cell_type": "code",
      "source": [
        "print(\"Nama:Muhammad Fashihul Lisa'an\\nKelas:X.8\\nNo Absen:24\")\n"
      ],
      "metadata": {
        "colab": {
          "base_uri": "https://localhost:8080/"
        },
        "id": "b8Ak-SVjmMol",
        "outputId": "c7793779-0bd3-4703-8d18-bd619c1a63cc"
      },
      "execution_count": null,
      "outputs": [
        {
          "output_type": "stream",
          "name": "stdout",
          "text": [
            "Nama:Muhammad Fashihul Lisa'an\n",
            "Kelas:X.8\n",
            "No Absen:24\n"
          ]
        }
      ]
    },
    {
      "cell_type": "code",
      "source": [
        "print(\"Lokasi File Tugas KKA:Lokal Disk C:\\\\KKA\\\\Tugas Lisaan\")"
      ],
      "metadata": {
        "colab": {
          "base_uri": "https://localhost:8080/"
        },
        "id": "bEh-mdS6miRS",
        "outputId": "f89ccb90-d7d8-4cfb-8dff-08cd0a059359"
      },
      "execution_count": null,
      "outputs": [
        {
          "output_type": "stream",
          "name": "stdout",
          "text": [
            "Lokasi File Tugas KKA:Lokal Disk C:\\KKA\\Tugas Lisaan\n"
          ]
        }
      ]
    },
    {
      "cell_type": "markdown",
      "source": [
        "#Parameter Fungsi print()"
      ],
      "metadata": {
        "id": "_KlmzUNAqwWd"
      }
    },
    {
      "cell_type": "code",
      "source": [
        "Tahun=2025\n",
        "Bulan=\"Agustus\"\n",
        "Tanggal=23\n",
        "\n",
        "print(Tahun, Bulan, Tanggal, sep=\" \")"
      ],
      "metadata": {
        "colab": {
          "base_uri": "https://localhost:8080/"
        },
        "id": "EdUyjvuYq7Ma",
        "outputId": "a31e291f-3c4f-4f68-b12b-7b75f0e95772"
      },
      "execution_count": null,
      "outputs": [
        {
          "output_type": "stream",
          "name": "stdout",
          "text": [
            "2025 Agustus 23\n"
          ]
        }
      ]
    },
    {
      "cell_type": "code",
      "source": [
        "nama_depan=\"Fashihul\"\n",
        "nama_belakang=\"Lisaan\"\n",
        "\n",
        "print(nama_depan, end=\" \")\n",
        "print(nama_belakang)"
      ],
      "metadata": {
        "colab": {
          "base_uri": "https://localhost:8080/"
        },
        "id": "EyVdG2Rdrey2",
        "outputId": "c28bb8bd-0da7-4fda-bf76-399b216edc84"
      },
      "execution_count": null,
      "outputs": [
        {
          "output_type": "stream",
          "name": "stdout",
          "text": [
            "Fashihul Lisaan\n"
          ]
        }
      ]
    },
    {
      "cell_type": "code",
      "source": [
        "nama_siswa_1 = \"Dinda\"\n",
        "nama_siswa_2 = \"Aurin\"\n",
        "nama_siswa_3 = \"Lisaan\"\n",
        "\n",
        "print (nama_siswa_1)\n",
        "print (nama_siswa_2)\n",
        "print (nama_siswa_3)"
      ],
      "metadata": {
        "id": "ECRHd9QhkUXJ",
        "outputId": "df044819-eeac-4563-f819-8d903dc101cc",
        "colab": {
          "base_uri": "https://localhost:8080/"
        }
      },
      "execution_count": null,
      "outputs": [
        {
          "output_type": "stream",
          "name": "stdout",
          "text": [
            "Dinda\n",
            "Aurin\n",
            "Lisaan\n"
          ]
        }
      ]
    }
  ]
}